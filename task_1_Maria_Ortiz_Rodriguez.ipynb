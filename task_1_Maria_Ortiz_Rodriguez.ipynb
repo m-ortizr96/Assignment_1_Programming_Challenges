{
 "cells": [
  {
   "cell_type": "code",
   "execution_count": 1,
   "metadata": {
    "scrolled": true
   },
   "outputs": [
    {
     "data": {
      "text/plain": [
       "[[\"Gene_ID\", \"Gene_name\", \"mutant_phenotype\"], [\"AT1G69120\", \"ap1\", \"meristems replace first and second whorl\"], [\"AT4G36920\", \"ap2\", \"first whorl carpels, second whorl stamens\"], [\"AT3G54340\", \"ap3\", \"second whorl sepals, third whorl carpels\"], [\"AT1G30950\", \"ufo\", \"second whorl sepaloidy, third whorl missing or carpeloid\"], [\"AT5G20240\", \"pi\", \"second whorl sepals, third whorl carpels\"]]"
      ]
     },
     "execution_count": 1,
     "metadata": {},
     "output_type": "execute_result"
    }
   ],
   "source": [
    "#load the files\n",
    "require 'csv'\n",
    "\n",
    "seed_stock = CSV.read('seed_stock_data.tsv', {:col_sep => \"\\t\"})\n",
    "cross_data = CSV.read('cross_data.tsv', {:col_sep => \"\\t\"})\n",
    "gene_info = CSV.read('gene_information.tsv', {:col_sep => \"\\t\"})\n"
   ]
  },
  {
   "cell_type": "code",
   "execution_count": 2,
   "metadata": {},
   "outputs": [
    {
     "data": {
      "text/plain": [
       ":resta"
      ]
     },
     "execution_count": 2,
     "metadata": {},
     "output_type": "execute_result"
    }
   ],
   "source": [
    "class SeedStock\n",
    "  attr_accessor :Seed_Stock\n",
    "  attr_accessor :Mutant_Gene_ID\n",
    "  attr_accessor :Last_Planted\n",
    "  attr_accessor :Storage\n",
    "  attr_accessor :Grams_Remaining\n",
    "  \n",
    "  \n",
    "  def initialize (\n",
    "    stock = \"A000\",\n",
    "    gene_ID = \"AT0G000\",\n",
    "    last_Planted = \"00/00/0000\",\n",
    "    storage = \"empty\",\n",
    "    grams = \"00\")\n",
    "    \n",
    "    @Seed_Stock = stock\n",
    "    @Mutant_Gene_ID = gene_ID\n",
    "    @Last_Planted = last_Planted\n",
    "    @Storage = storage\n",
    "    @Grams_Remaining = grams\n",
    "  end\n",
    "  \n",
    "#function which does the grams remaining \n",
    "  def resta(value = 1)\n",
    "    @Last_Planted = Time.now.strftime(\"%d/%m/%Y\")\n",
    "    k = @Grams_Remaining.to_i\n",
    "    if k > 0\n",
    "      k = k - value\n",
    "      if k<=0\n",
    "        k=0\n",
    "        puts \"WARNING: we have run out of Seed Stock #{@Seed_Stock}\"\n",
    "      end\n",
    "      k = k.to_s\n",
    "    end\n",
    "    @Grams_Remaining = k  \n",
    "  end\n",
    "  \n",
    "  \n",
    "end"
   ]
  },
  {
   "cell_type": "code",
   "execution_count": 12,
   "metadata": {},
   "outputs": [
    {
     "data": {
      "text/plain": [
       ":gene_id"
      ]
     },
     "execution_count": 12,
     "metadata": {},
     "output_type": "execute_result"
    }
   ],
   "source": [
    "class Gene\n",
    "  attr_accessor :gene_ID\n",
    "  attr_accessor :gene_name\n",
    "  attr_accessor :mutant_phenotype\n",
    "\n",
    "  \n",
    "  def initialize (\n",
    "    gene_id = \"000\",\n",
    "    gene_name = \"000\",\n",
    "    mutant_phenotype = \"000\")\n",
    "    \n",
    "    #@gene_ID = gene_id\n",
    "    @gene_name = gene_name\n",
    "    @mutant_phenotype = mutant_phenotype\n",
    "  end\n",
    "  \n",
    "  #check if the gene_id is correct\n",
    "  def gene_id(code)\n",
    "    gene_id = Regexp.new(/A[Tt]\\d[Gg]\\d\\d\\d\\d\\d/)\n",
    "    if gene_id.match(code)\n",
    "      @gene_ID = gene_id\n",
    "    else\n",
    "      abort \"not valid ID\"\n",
    "      @gene = \"0000\"\n",
    "    end\n",
    "  end\n",
    "\n",
    "end"
   ]
  },
  {
   "cell_type": "code",
   "execution_count": 13,
   "metadata": {},
   "outputs": [
    {
     "name": "stdout",
     "output_type": "stream",
     "text": [
      "WARNING: we have run out of Seed Stock A51\n",
      "WARNING: we have run out of Seed Stock B52\n"
     ]
    },
    {
     "data": {
      "text/plain": [
       "1..5"
      ]
     },
     "execution_count": 13,
     "metadata": {},
     "output_type": "execute_result"
    }
   ],
   "source": [
    "$row_seed_stock = []\n",
    "header_seed_stock = []\n",
    "tabla = []\n",
    "$row_gene = []\n",
    "\n",
    "#this loop adds the data into the SeedStock class\n",
    "  for i in 1..seed_stock.length-1 do\n",
    "    col1 = seed_stock[i][0]\n",
    "    col2 = seed_stock[i][1]\n",
    "    col3 = seed_stock[i][2]\n",
    "    col4 = seed_stock[i][3]\n",
    "    col5 = seed_stock[i][4]\n",
    "    $row_seed_stock[i] = SeedStock.new(col1, col2, col3, col4, col5)\n",
    "    $row_seed_stock[i].resta(7)\n",
    "    tabla[i] = [$row_seed_stock[i].Seed_Stock + \"\\t\" + $row_seed_stock[i].Mutant_Gene_ID + \"\\t\" + $row_seed_stock[i].Last_Planted + \"\\t\" + $row_seed_stock[i].Storage + \"\\t\" + $row_seed_stock[i].Grams_Remaining ] \n",
    "  end\n",
    "\n",
    "#delete \"nil\" expression\n",
    "tabla.delete_at(0)\n",
    "#take the header \n",
    "header_seed_stock << seed_stock[0].join(\"\\t\")\n",
    "#add the header into the array\n",
    "tabla.insert(0,header_seed_stock)\n",
    "\n",
    "#create the new table \n",
    "csv_str = tabla.inject([]) { |csv, row|  csv << CSV.generate_line(row) }.join(\"\")\n",
    "File.open(\"new_stock.tsv\", \"w\", col_sep: \"\\t\") {|f| f.write(tabla.inject([]) { |csv, row|  csv << CSV.generate_line(row) }.join(\"\"))}\n",
    "\n",
    "#this loop adds the data into the Gene class\n",
    "  for i in 1..gene_info.length-1 do\n",
    "    col1 = gene_info[i][0]\n",
    "    col2 = gene_info[i][1]\n",
    "    col3 = gene_info[i][2]\n",
    "    $row_gene[i] = Gene.new(col1, col2, col3)\n",
    "    #tabla_gene[i] = [row_gene[i].gene_ID + \"\\t\" + row_gene[i].gene_name + \"\\t\" + row_gene[i].mutant_phenotype] \n",
    "  end\n",
    "\n",
    "\n"
   ]
  },
  {
   "cell_type": "code",
   "execution_count": 14,
   "metadata": {},
   "outputs": [
    {
     "data": {
      "text/plain": [
       ":Xi_Test"
      ]
     },
     "execution_count": 14,
     "metadata": {},
     "output_type": "execute_result"
    }
   ],
   "source": [
    "class Hybrid_Cross \n",
    "  attr_accessor :parent1\n",
    "  attr_accessor :parent2\n",
    "  attr_accessor :f2_wild\n",
    "  attr_accessor :f2_p1\n",
    "  attr_accessor :f2_p2\n",
    "  attr_accessor :f2_p1p2\n",
    "  \n",
    "  def initialize (\n",
    "    parent1 = \"000\",\n",
    "    parent2 = \"000\",\n",
    "    f2_wild = \"000\",\n",
    "    f2_p1 = \"000\",\n",
    "    f2_p2 = \"000\",\n",
    "    f2_p1p2 = \"000\")\n",
    "    \n",
    "    @parent1 = parent1\n",
    "    @parent2 = parent2\n",
    "    @f2_wild = f2_wild\n",
    "    @f2_p1 = f2_p1\n",
    "    @f2_p2 = f2_p2\n",
    "    @f2_p1p2 = f2_p1p2\n",
    "\n",
    "  end\n",
    "  \n",
    "  \n",
    "  \n",
    "  def Xi_Test(\n",
    "    f2_wild = \"000\",\n",
    "    f2_p1 = \"000\",\n",
    "    f2_p2 = \"000\",\n",
    "    f2_p1p2 = \"000\")\n",
    "    \n",
    "    #observed frequencies\n",
    "    observed_wild = @f2_wild.to_i\n",
    "    observed_p1 = @f2_p1.to_f\n",
    "    observed_p2 = @f2_p2.to_f\n",
    "    observed_p1p2 = @f2_p1p2.to_f\n",
    "    total_observed = observed_wild + observed_p1 + observed_p2 + observed_p1p2\n",
    "    \n",
    "    #expected frequencies\n",
    "    expected_wild = (total_observed*9/16).to_f\n",
    "    expected_p1 = (total_observed*3/16).to_f\n",
    "    expected_p2 = (total_observed*3/16).to_f\n",
    "    expected_p1p2 = (total_observed*1/16).to_f\n",
    "\n",
    "    #Chi-square test\n",
    "    chi_square_wild =( ((observed_wild - expected_wild)**2 )/ expected_wild).to_f\n",
    "    chi_square_p1 = (((observed_p1 - expected_p1)**2)/expected_p1).to_f\n",
    "    chi_square_p2 = (((observed_p2 - expected_p2)**2)/(expected_p2)).to_f\n",
    "    chi_square_p1p2 = (((observed_p1p2 - expected_p1p2)**2)/(expected_p1p2)).to_f\n",
    "    chi_square_total = chi_square_wild + chi_square_p1 + chi_square_p2 + chi_square_p1p2\n",
    "\n",
    "    \n",
    "    test_number = 7.81 \n",
    "    if chi_square_total > test_number\n",
    "      \n",
    "      for i in 1..5 do\n",
    "        if parent1 == $row_seed_stock[i].Seed_Stock\n",
    "         $row_seed_stock[i].Mutant_Gene_ID == $row_gene[i].gene_ID\n",
    "          @parent1 = $row_gene[i].gene_name\n",
    "        end\n",
    "        if parent2 == $row_seed_stock[i].Seed_Stock\n",
    "         $row_seed_stock[i].Mutant_Gene_ID == $row_gene[i].gene_ID\n",
    "          @parent2 = $row_gene[i].gene_name\n",
    "        end\n",
    "      end\n",
    "          \n",
    "        puts \"Recording: #{@parent1} is genetically linked to #{@parent2}\"\n",
    "      puts \"\"\n",
    "        puts \"#{@parent1} is genetically linked to #{parent2} with chisquare score #{chi_square_total}\"\n",
    "       \n",
    "      end\n",
    "    \n",
    "\n",
    "  end\n",
    "   \n",
    "end"
   ]
  },
  {
   "cell_type": "code",
   "execution_count": 15,
   "metadata": {},
   "outputs": [
    {
     "name": "stdout",
     "output_type": "stream",
     "text": [
      "Recording: ufo is genetically linked to pi\n",
      "\n",
      "ufo is genetically linked to pi with chisquare score 32.27942794279428\n"
     ]
    },
    {
     "data": {
      "text/plain": [
       "1..5"
      ]
     },
     "execution_count": 15,
     "metadata": {},
     "output_type": "execute_result"
    }
   ],
   "source": [
    "row_cross = []\n",
    "header_cross = []\n",
    "tabla_cross = []\n",
    "\n",
    "  for i in 1..cross_data.length-1 do\n",
    "    col1 = cross_data[i][0]\n",
    "    col2 = cross_data[i][1]\n",
    "    col3 = cross_data[i][2]\n",
    "    col4 = cross_data[i][3]\n",
    "    col5 = cross_data[i][4]\n",
    "    col6 = cross_data[i][5]\n",
    "    row_cross[i] = Hybrid_Cross.new(col1, col2, col3, col4, col5, col6)\n",
    "    row_cross[i].Xi_Test\n",
    "  end"
   ]
  }
 ],
 "metadata": {
  "kernelspec": {
   "display_name": "Ruby 2.6.3",
   "language": "ruby",
   "name": "ruby"
  },
  "language_info": {
   "file_extension": ".rb",
   "mimetype": "application/x-ruby",
   "name": "ruby",
   "version": "2.6.3"
  }
 },
 "nbformat": 4,
 "nbformat_minor": 2
}
